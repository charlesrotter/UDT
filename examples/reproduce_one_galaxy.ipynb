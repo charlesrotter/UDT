{
 "cells": [
  {
   "cell_type": "markdown",
   "metadata": {},
   "source": [
    "# UDT Galaxy Rotation Curve Analysis Example\n",
    "\n",
    "This notebook demonstrates how to analyze a single galaxy rotation curve using Universal Distance Dilation Theory (UDT) and compare it with standard dark matter models."
   ]
  },
  {
   "cell_type": "code",
   "execution_count": null,
   "metadata": {},
   "outputs": [],
   "source": [
    "# Import required libraries\n",
    "import numpy as np\n",
    "import matplotlib.pyplot as plt\n",
    "import pandas as pd\n",
    "from pathlib import Path\n",
    "import sys\n",
    "\n",
    "# Add UDT package to path\n",
    "sys.path.append('..')\n",
    "from udt.core.galactic_dynamics import enhancement_factor, velocity_profile\n",
    "from udt.utils.data_loader import load_sparc_galaxy"
   ]
  },
  {
   "cell_type": "markdown",
   "metadata": {},
   "source": [
    "## Load Galaxy Data\n",
    "\n",
    "We'll analyze NGC 3198, a well-studied spiral galaxy with high-quality rotation curve data."
   ]
  },
  {
   "cell_type": "code",
   "execution_count": null,
   "metadata": {},
   "outputs": [],
   "source": [
    "# Load NGC 3198 rotation curve data\n",
    "galaxy_name = 'NGC3198'\n",
    "data_path = Path('../data/sparc_database')\n",
    "\n",
    "# Load the rotation curve data\n",
    "data = load_sparc_galaxy(galaxy_name, data_path)\n",
    "\n",
    "# Extract radius and velocity data\n",
    "r_kpc = data['radius']  # Radius in kpc\n",
    "v_obs = data['velocity']  # Observed velocity in km/s\n",
    "v_err = data['velocity_err']  # Velocity errors\n",
    "\n",
    "print(f\"Loaded {len(r_kpc)} data points for {galaxy_name}\")\n",
    "print(f\"Radius range: {r_kpc.min():.2f} - {r_kpc.max():.2f} kpc\")\n",
    "print(f\"Max velocity: {v_obs.max():.1f} km/s\")"
   ]
  },
  {
   "cell_type": "markdown",
   "metadata": {},
   "source": [
    "## UDT Model Parameters\n",
    "\n",
    "The key parameters for UDT galactic dynamics:\n",
    "- **R₀**: Characteristic scale (kpc)\n",
    "- **V_scale**: Velocity scale parameter (km/s)\n",
    "- **α**: Enhancement coupling constant"
   ]
  },
  {
   "cell_type": "code",
   "execution_count": null,
   "metadata": {},
   "outputs": [],
   "source": [
    "# UDT parameters for NGC 3198 (typical values)\n",
    "R0_gal = 30.0  # kpc - characteristic scale\n",
    "V_scale = 120.0  # km/s - velocity scale\n",
    "alpha = 0.01  # enhancement coupling\n",
    "\n",
    "# Calculate enhancement factor across the galaxy\n",
    "enhancement = enhancement_factor(r_kpc, R0_gal, alpha)\n",
    "\n",
    "# Calculate UDT velocity prediction\n",
    "v_udt = velocity_profile(r_kpc, R0_gal, V_scale)\n",
    "\n",
    "print(f\"Enhancement factor range: {enhancement.min():.3f} - {enhancement.max():.3f}\")"
   ]
  },
  {
   "cell_type": "markdown",
   "metadata": {},
   "source": [
    "## Visualization: UDT vs Observations"
   ]
  },
  {
   "cell_type": "code",
   "execution_count": null,
   "metadata": {},
   "outputs": [],
   "source": [
    "# Create figure with two subplots\n",
    "fig, (ax1, ax2) = plt.subplots(2, 1, figsize=(10, 10))\n",
    "\n",
    "# Top panel: Rotation curve\n",
    "ax1.errorbar(r_kpc, v_obs, yerr=v_err, fmt='o', color='black', \n",
    "             label='Observed', markersize=6, capsize=3)\n",
    "ax1.plot(r_kpc, v_udt, 'r-', linewidth=2, label='UDT Prediction')\n",
    "\n",
    "# Add Newtonian expectation for comparison\n",
    "v_newt = V_scale * np.sqrt(r_kpc / (r_kpc + R0_gal/3))\n",
    "ax1.plot(r_kpc, v_newt, 'b--', linewidth=2, label='Newtonian (no DM)', alpha=0.7)\n",
    "\n",
    "ax1.set_xlabel('Radius (kpc)', fontsize=12)\n",
    "ax1.set_ylabel('Velocity (km/s)', fontsize=12)\n",
    "ax1.set_title(f'{galaxy_name} Rotation Curve: UDT Analysis', fontsize=14)\n",
    "ax1.legend(fontsize=11)\n",
    "ax1.grid(True, alpha=0.3)\n",
    "ax1.set_xlim(0, r_kpc.max() * 1.1)\n",
    "ax1.set_ylim(0, v_obs.max() * 1.2)\n",
    "\n",
    "# Bottom panel: Enhancement factor\n",
    "ax2.plot(r_kpc, enhancement, 'g-', linewidth=2)\n",
    "ax2.axhline(y=1.0, color='k', linestyle='--', alpha=0.5)\n",
    "ax2.set_xlabel('Radius (kpc)', fontsize=12)\n",
    "ax2.set_ylabel('Enhancement Factor F(τ)', fontsize=12)\n",
    "ax2.set_title('UDT Enhancement Factor vs Radius', fontsize=14)\n",
    "ax2.grid(True, alpha=0.3)\n",
    "ax2.set_xlim(0, r_kpc.max() * 1.1)\n",
    "\n",
    "plt.tight_layout()\n",
    "plt.show()"
   ]
  },
  {
   "cell_type": "markdown",
   "metadata": {},
   "source": [
    "## Residual Analysis\n",
    "\n",
    "Let's examine how well UDT fits the data compared to a simple Newtonian model."
   ]
  },
  {
   "cell_type": "code",
   "execution_count": null,
   "metadata": {},
   "outputs": [],
   "source": [
    "# Calculate residuals\n",
    "residuals_udt = v_obs - v_udt\n",
    "residuals_newt = v_obs - v_newt\n",
    "\n",
    "# RMS values\n",
    "rms_udt = np.sqrt(np.mean(residuals_udt**2))\n",
    "rms_newt = np.sqrt(np.mean(residuals_newt**2))\n",
    "\n",
    "# Plot residuals\n",
    "plt.figure(figsize=(10, 6))\n",
    "plt.axhline(y=0, color='k', linestyle='-', alpha=0.3)\n",
    "plt.errorbar(r_kpc, residuals_udt, yerr=v_err, fmt='ro', \n",
    "             label=f'UDT (RMS = {rms_udt:.1f} km/s)', markersize=6, capsize=3)\n",
    "plt.errorbar(r_kpc + 0.3, residuals_newt, yerr=v_err, fmt='bs', \n",
    "             label=f'Newtonian (RMS = {rms_newt:.1f} km/s)', markersize=6, capsize=3, alpha=0.7)\n",
    "\n",
    "plt.xlabel('Radius (kpc)', fontsize=12)\n",
    "plt.ylabel('Residuals (km/s)', fontsize=12)\n",
    "plt.title(f'{galaxy_name}: Model Residuals', fontsize=14)\n",
    "plt.legend(fontsize=11)\n",
    "plt.grid(True, alpha=0.3)\n",
    "plt.xlim(0, r_kpc.max() * 1.1)\n",
    "\n",
    "plt.tight_layout()\n",
    "plt.show()\n",
    "\n",
    "print(f\"UDT improvement factor: {rms_newt/rms_udt:.2f}x better than Newtonian\")"
   ]
  },
  {
   "cell_type": "markdown",
   "metadata": {},
   "source": [
    "## Parameter Sensitivity Analysis\n",
    "\n",
    "How sensitive is the fit to the choice of R₀?"
   ]
  },
  {
   "cell_type": "code",
   "execution_count": null,
   "metadata": {},
   "outputs": [],
   "source": [
    "# Test different R0 values\n",
    "R0_values = np.array([20, 25, 30, 35, 40])  # kpc\n",
    "colors = plt.cm.viridis(np.linspace(0, 1, len(R0_values)))\n",
    "\n",
    "plt.figure(figsize=(10, 6))\n",
    "\n",
    "# Plot observations\n",
    "plt.errorbar(r_kpc, v_obs, yerr=v_err, fmt='ko', \n",
    "             label='Observed', markersize=6, capsize=3, zorder=10)\n",
    "\n",
    "# Plot UDT predictions for different R0\n",
    "for R0, color in zip(R0_values, colors):\n",
    "    v_test = velocity_profile(r_kpc, R0, V_scale)\n",
    "    plt.plot(r_kpc, v_test, '-', color=color, linewidth=2, \n",
    "             label=f'R₀ = {R0} kpc', alpha=0.8)\n",
    "\n",
    "plt.xlabel('Radius (kpc)', fontsize=12)\n",
    "plt.ylabel('Velocity (km/s)', fontsize=12)\n",
    "plt.title(f'{galaxy_name}: Sensitivity to R₀ Parameter', fontsize=14)\n",
    "plt.legend(fontsize=10, loc='lower right')\n",
    "plt.grid(True, alpha=0.3)\n",
    "plt.xlim(0, r_kpc.max() * 1.1)\n",
    "plt.ylim(0, v_obs.max() * 1.2)\n",
    "\n",
    "plt.tight_layout()\n",
    "plt.show()"
   ]
  },
  {
   "cell_type": "markdown",
   "metadata": {},
   "source": [
    "## Summary\n",
    "\n",
    "This notebook demonstrated:\n",
    "1. Loading real SPARC galaxy rotation curve data\n",
    "2. Applying the UDT velocity profile model\n",
    "3. Comparing UDT predictions with observations\n",
    "4. Analyzing model residuals and fit quality\n",
    "5. Testing parameter sensitivity\n",
    "\n",
    "Key findings:\n",
    "- UDT provides significantly better fits than Newtonian dynamics without dark matter\n",
    "- The enhancement factor F(τ) naturally explains the \"missing mass\" problem\n",
    "- Model parameters (R₀, V_scale) can be optimized for each galaxy\n",
    "\n",
    "For more galaxies and comprehensive analysis, see `scripts/analyze_sparc_galaxies.py`."
   ]
  }
 ],
 "metadata": {
  "kernelspec": {
   "display_name": "Python 3",
   "language": "python",
   "name": "python3"
  },
  "language_info": {
   "codemirror_mode": {
    "name": "ipython",
    "version": 3
   },
   "file_extension": ".py",
   "mimetype": "text/x-python",
   "name": "python",
   "nbconvert_exporter": "python",
   "pygments_lexer": "ipython3",
   "version": "3.10.0"
  }
 },
 "nbformat": 4,
 "nbformat_minor": 4
}